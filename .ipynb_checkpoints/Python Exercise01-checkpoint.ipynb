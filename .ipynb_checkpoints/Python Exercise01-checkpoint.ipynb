{
 "cells": [
  {
   "cell_type": "markdown",
   "metadata": {},
   "source": [
    "# Intermediate Python Practice Questions\n",
    "## Topics Covered:\n",
    "- Functions and Modules\n",
    "- File Handling\n",
    "- Error Handling\n",
    "- Object-Oriented Programming (OOP)\n",
    "- Data Structures (Lists, Tuples, Sets, Dictionaries)\n",
    "- List Comprehensions\n",
    "- Generators and Iterators\n",
    "- Decorators\n",
    "- Lambda Functions\n"
   ]
  },
  {
   "cell_type": "markdown",
   "metadata": {},
   "source": [
    "## 1. Functions and Modules\n",
    "\n",
    "**Question 1:** Write a Python function to calculate the factorial of a number using recursion.\n",
    "\n",
    "**Hint:** Use recursion to call the function within itself."
   ]
  },
  {
   "cell_type": "code",
   "metadata": {},
   "outputs": [],
   "source": [
    "# Your code here"
   ]
  },
  {
   "cell_type": "markdown",
   "metadata": {},
   "source": [
    "**Question 2:** Write a Python function to check if a string is a palindrome.\n",
    "\n",
    "**Hint:** Compare the string with its reverse."
   ]
  },
  {
   "cell_type": "code",
   "metadata": {},
   "outputs": [],
   "source": [
    "# Your code here"
   ]
  },
  {
   "cell_type": "markdown",
   "metadata": {},
   "source": [
    "**Question 3:** Write a Python function to generate Fibonacci series up to n terms.\n",
    "\n",
    "**Hint:** Use a loop to generate the series."
   ]
  },
  {
   "cell_type": "code",
   "metadata": {},
   "outputs": [],
   "source": [
    "# Your code here"
   ]
  },
  {
   "cell_type": "markdown",
   "metadata": {},
   "source": [
    "## 2. File Handling\n",
    "\n",
    "**Question 4:** Write a Python program to read a file and count the number of lines in it.\n",
    "\n",
    "**Hint:** Use the `open()` function and a loop to count lines."
   ]
  },
  {
   "cell_type": "code",
   "metadata": {},
   "outputs": [],
   "source": [
    "# Your code here"
   ]
  },
  {
   "cell_type": "markdown",
   "metadata": {},
   "source": [
    "**Question 5:** Write a Python program to write a list of strings to a file.\n",
    "\n",
    "**Hint:** Use the `write()` method in a loop."
   ]
  },
  {
   "cell_type": "code",
   "metadata": {},
   "outputs": [],
   "source": [
    "# Your code here"
   ]
  },
  {
   "cell_type": "markdown",
   "metadata": {},
   "source": [
    "**Question 6:** Write a Python program to append text to an existing file.\n",
    "\n",
    "**Hint:** Use the `open()` function with the `'a'` mode."
   ]
  },
  {
   "cell_type": "code",
   "metadata": {},
   "outputs": [],
   "source": [
    "# Your code here"
   ]
  },
  {
   "cell_type": "markdown",
   "metadata": {},
   "source": [
    "## 3. Error Handling\n",
    "\n",
    "**Question 7:** Write a Python program to handle division by zero using try-except.\n",
    "\n",
    "**Hint:** Use a `try` block to attempt division and `except` to catch the error."
   ]
  },
  {
   "cell_type": "code",
   "metadata": {},
   "outputs": [],
   "source": [
    "# Your code here"
   ]
  },
  {
   "cell_type": "markdown",
   "metadata": {},
   "source": [
    "**Question 8:** Write a Python program to handle file not found error.\n",
    "\n",
    "**Hint:** Use `try-except` to catch `FileNotFoundError`."
   ]
  },
  {
   "cell_type": "code",
   "metadata": {},
   "outputs": [],
   "source": [
    "# Your code here"
   ]
  },
  {
   "cell_type": "markdown",
   "metadata": {},
   "source": [
    "## 4. Object-Oriented Programming (OOP)\n",
    "\n",
    "**Question 9:** Create a Python class `Car` with attributes `make`, `model`, and `year`. Add a method to display the car details.\n",
    "\n",
    "**Hint:** Use the `__init__` method to initialize attributes."
   ]
  },
  {
   "cell_type": "code",
   "metadata": {},
   "outputs": [],
   "source": [
    "# Your code here"
   ]
  },
  {
   "cell_type": "markdown",
   "metadata": {},
   "source": [
    "**Question 10:** Create a Python class `BankAccount` with methods to deposit and withdraw money.\n",
    "\n",
    "**Hint:** Use instance variables to track the balance."
   ]
  },
  {
   "cell_type": "code",
   "metadata": {},
   "outputs": [],
   "source": [
    "# Your code here"
   ]
  },
  {
   "cell_type": "markdown",
   "metadata": {},
   "source": [
    "## 5. Data Structures\n",
    "\n",
    "**Question 11:** Write a Python program to find the most frequent element in a list.\n",
    "\n",
    "**Hint:** Use the `collections.Counter` class."
   ]
  },
  {
   "cell_type": "code",
   "metadata": {},
   "outputs": [],
   "source": [
    "# Your code here"
   ]
  },
  {
   "cell_type": "markdown",
   "metadata": {},
   "source": [
    "**Question 12:** Write a Python program to merge two dictionaries.\n",
    "\n",
    "**Hint:** Use the `update()` method or dictionary unpacking."
   ]
  },
  {
   "cell_type": "code",
   "metadata": {},
   "outputs": [],
   "source": [
    "# Your code here"
   ]
  },
  {
   "cell_type": "markdown",
   "metadata": {},
   "source": [
    "**Question 13:** Write a Python program to remove duplicates from a list.\n",
    "\n",
    "**Hint:** Convert the list to a set and back to a list."
   ]
  },
  {
   "cell_type": "code",
   "metadata": {},
   "outputs": [],
   "source": [
    "# Your code here"
   ]
  },
  {
   "cell_type": "markdown",
   "metadata": {},
   "source": [
    "## 6. List Comprehensions\n",
    "\n",
    "**Question 14:** Write a Python program to create a list of squares of numbers from 1 to 10 using list comprehension.\n",
    "\n",
    "**Hint:** Use `[x**2 for x in range(1, 11)]`."
   ]
  },
  {
   "cell_type": "code",
   "metadata": {},
   "outputs": [],
   "source": [
    "# Your code here"
   ]
  },
  {
   "cell_type": "markdown",
   "metadata": {},
   "source": [
    "**Question 15:** Write a Python program to filter even numbers from a list using list comprehension.\n",
    "\n",
    "**Hint:** Use `[x for x in list if x % 2 == 0]`."
   ]
  },
  {
   "cell_type": "code",
   "metadata": {},
   "outputs": [],
   "source": [
    "# Your code here"
   ]
  },
  {
   "cell_type": "markdown",
   "metadata": {},
   "source": [
    "## 7. Generators and Iterators\n",
    "\n",
    "**Question 16:** Write a Python generator function to generate Fibonacci numbers.\n",
    "\n",
    "**Hint:** Use `yield` to generate values on the fly."
   ]
  },
  {
   "cell_type": "code",
   "metadata": {},
   "outputs": [],
   "source": [
    "# Your code here"
   ]
  },
  {
   "cell_type": "markdown",
   "metadata": {},
   "source": [
    "**Question 17:** Write a Python program to create an iterator that returns numbers from 1 to 10.\n",
    "\n",
    "**Hint:** Use the `iter()` and `next()` functions."
   ]
  },
  {
   "cell_type": "code",
   "metadata": {},
   "outputs": [],
   "source": [
    "# Your code here"
   ]
  },
  {
   "cell_type": "markdown",
   "metadata": {},
   "source": [
    "## 8. Decorators\n",
    "\n",
    "**Question 18:** Write a Python decorator to measure the execution time of a function.\n",
    "\n",
    "**Hint:** Use the `time` module and wrap the function with a decorator."
   ]
  },
  {
   "cell_type": "code",
   "metadata": {},
   "outputs": [],
   "source": [
    "# Your code here"
   ]
  },
  {
   "cell_type": "markdown",
   "metadata": {},
   "source": [
    "**Question 19:** Write a Python decorator to log function calls.\n",
    "\n",
    "**Hint:** Use a decorator to print the function name before execution."
   ]
  },
  {
   "cell_type": "code",
   "metadata": {},
   "outputs": [],
   "source": [
    "# Your code here"
   ]
  },
  {
   "cell_type": "markdown",
   "metadata": {},
   "source": [
    "## 9. Lambda Functions\n",
    "\n",
    "**Question 20:** Write a Python program to sort a list of tuples based on the second element using a lambda function.\n",
    "\n",
    "**Hint:** Use `sorted()` with a lambda function as the key."
   ]
  },
  {
   "cell_type": "code",
   "metadata": {},
   "outputs": [],
   "source": [
    "# Your code here"
   ]
  }
 ],
 "metadata": {
  "kernelspec": {
   "display_name": "Python 3",
   "language": "python",
   "name": "python3"
  },
  "language_info": {
   "codemirror_mode": {
    "name": "ipython",
    "version": 3
   },
   "file_extension": ".py",
   "mimetype": "text/x-python",
   "name": "python",
   "nbconvert_exporter": "python",
   "pygments_lexer": "ipython3",
   "version": "3.8.5"
  }
 },
 "nbformat": 4,
 "nbformat_minor": 4
}
