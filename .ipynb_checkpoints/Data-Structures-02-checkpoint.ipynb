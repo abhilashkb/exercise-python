{
 "cells": [
  {
   "cell_type": "markdown",
   "metadata": {},
   "source": [
    "# Tricky Python Data Structures and Comprehensions Practice Questions\n",
    "## Topics Covered:\n",
    "- List comprehensions\n",
    "- Dictionary comprehensions\n",
    "- Set comprehensions\n",
    "- Nested comprehensions\n",
    "- Advanced data structure manipulations\n"
   ]
  },
  {
   "cell_type": "markdown",
   "metadata": {},
   "source": [
    "## 1. List Comprehensions\n",
    "\n",
    "**Question 1:** Write a Python program to create a list of squares of numbers from 1 to 20 using list comprehension.\n",
    "\n",
    "**Elaborated Hint:**\n",
    "- Use a list comprehension with the syntax `[x**2 for x in range(1, 21)]`.\n",
    "- This will generate a list of squares for numbers from 1 to 20."
   ]
  },
  {
   "cell_type": "code",
   "metadata": {},
   "outputs": [],
   "source": [
    "# Your code here"
   ]
  },
  {
   "cell_type": "markdown",
   "metadata": {},
   "source": [
    "**Question 2:** Write a Python program to filter out all even numbers from a list using list comprehension.\n",
    "\n",
    "**Elaborated Hint:**\n",
    "- Use a list comprehension with the syntax `[x for x in list if x % 2 == 0]`.\n",
    "- This will create a new list containing only the even numbers from the original list."
   ]
  },
  {
   "cell_type": "code",
   "metadata": {},
   "outputs": [],
   "source": [
    "# Your code here"
   ]
  },
  {
   "cell_type": "markdown",
   "metadata": {},
   "source": [
    "**Question 3:** Write a Python program to flatten a 2D list (a list of lists) using list comprehension.\n",
    "\n",
    "**Elaborated Hint:**\n",
    "- Use a nested list comprehension with the syntax `[item for sublist in 2d_list for item in sublist]`.\n",
    "- This will flatten the 2D list into a single list."
   ]
  },
  {
   "cell_type": "code",
   "metadata": {},
   "outputs": [],
   "source": [
    "# Your code here"
   ]
  },
  {
   "cell_type": "markdown",
   "metadata": {},
   "source": [
    "**Question 4:** Write a Python program to create a list of tuples where each tuple contains a number and its square using list comprehension.\n",
    "\n",
    "**Elaborated Hint:**\n",
    "- Use a list comprehension with the syntax `[(x, x**2) for x in range(1, 11)]`.\n",
    "- This will create a list of tuples where each tuple contains a number and its square."
   ]
  },
  {
   "cell_type": "code",
   "metadata": {},
   "outputs": [],
   "source": [
    "# Your code here"
   ]
  },
  {
   "cell_type": "markdown",
   "metadata": {},
   "source": [
    "**Question 5:** Write a Python program to create a list of all uppercase letters in a string using list comprehension.\n",
    "\n",
    "**Elaborated Hint:**\n",
    "- Use a list comprehension with the syntax `[char for char in string if char.isupper()]`.\n",
    "- This will filter out and collect all uppercase letters from the string."
   ]
  },
  {
   "cell_type": "code",
   "metadata": {},
   "outputs": [],
   "source": [
    "# Your code here"
   ]
  },
  {
   "cell_type": "markdown",
   "metadata": {},
   "source": [
    "## 2. Dictionary Comprehensions\n",
    "\n",
    "**Question 6:** Write a Python program to create a dictionary where keys are numbers from 1 to 10 and values are their squares using dictionary comprehension.\n",
    "\n",
    "**Elaborated Hint:**\n",
    "- Use a dictionary comprehension with the syntax `{x: x**2 for x in range(1, 11)}`.\n",
    "- This will create a dictionary with numbers as keys and their squares as values."
   ]
  },
  {
   "cell_type": "code",
   "metadata": {},
   "outputs": [],
   "source": [
    "# Your code here"
   ]
  },
  {
   "cell_type": "markdown",
   "metadata": {},
   "source": [
    "**Question 7:** Write a Python program to swap keys and values in a dictionary using dictionary comprehension.\n",
    "\n",
    "**Elaborated Hint:**\n",
    "- Use a dictionary comprehension with the syntax `{value: key for key, value in original_dict.items()}`.\n",
    "- This will create a new dictionary with keys and values swapped."
   ]
  },
  {
   "cell_type": "code",
   "metadata": {},
   "outputs": [],
   "source": [
    "# Your code here"
   ]
  },
  {
   "cell_type": "markdown",
   "metadata": {},
   "source": [
    "**Question 8:** Write a Python program to filter a dictionary to include only key-value pairs where the value is greater than 50 using dictionary comprehension.\n",
    "\n",
    "**Elaborated Hint:**\n",
    "- Use a dictionary comprehension with the syntax `{k: v for k, v in original_dict.items() if v > 50}`.\n",
    "- This will create a new dictionary with only the key-value pairs where the value is greater than 50."
   ]
  },
  {
   "cell_type": "code",
   "metadata": {},
   "outputs": [],
   "source": [
    "# Your code here"
   ]
  },
  {
   "cell_type": "markdown",
   "metadata": {},
   "source": [
    "**Question 9:** Write a Python program to create a dictionary from two lists (keys and values) using dictionary comprehension.\n",
    "\n",
    "**Elaborated Hint:**\n",
    "- Use a dictionary comprehension with the syntax `{keys[i]: values[i] for i in range(len(keys))}`.\n",
    "- This will create a dictionary by pairing elements from the two lists."
   ]
  },
  {
   "cell_type": "code",
   "metadata": {},
   "outputs": [],
   "source": [
    "# Your code here"
   ]
  },
  {
   "cell_type": "markdown",
   "metadata": {},
   "source": [
    "**Question 10:** Write a Python program to create a dictionary where keys are words in a string and values are their lengths using dictionary comprehension.\n",
    "\n",
    "**Elaborated Hint:**\n",
    "- Use a dictionary comprehension with the syntax `{word: len(word) for word in string.split()}`.\n",
    "- This will create a dictionary with words as keys and their lengths as values."
   ]
  },
  {
   "cell_type": "code",
   "metadata": {},
   "outputs": [],
   "source": [
    "# Your code here"
   ]
  },
  {
   "cell_type": "markdown",
   "metadata": {},
   "source": [
    "## 3. Set Comprehensions\n",
    "\n",
    "**Question 11:** Write a Python program to create a set of squares of numbers from 1 to 10 using set comprehension.\n",
    "\n",
    "**Elaborated Hint:**\n",
    "- Use a set comprehension with the syntax `{x**2 for x in range(1, 11)}`.\n",
    "- This will create a set of squares for numbers from 1 to 10."
   ]
  },
  {
   "cell_type": "code",
   "metadata": {},
   "outputs": [],
   "source": [
    "# Your code here"
   ]
  },
  {
   "cell_type": "markdown",
   "metadata": {},
   "source": [
    "**Question 12:** Write a Python program to create a set of all unique characters in a string using set comprehension.\n",
    "\n",
    "**Elaborated Hint:**\n",
    "- Use a set comprehension with the syntax `{char for char in string}`.\n",
    "- This will create a set of unique characters from the string."
   ]
  },
  {
   "cell_type": "code",
   "metadata": {},
   "outputs": [],
   "source": [
    "# Your code here"
   ]
  },
  {
   "cell_type": "markdown",
   "metadata": {},
   "source": [
    "**Question 13:** Write a Python program to create a set of all vowels in a string using set comprehension.\n",
    "\n",
    "**Elaborated Hint:**\n",
    "- Use a set comprehension with the syntax `{char for char in string if char in 'aeiouAEIOU'}`.\n",
    "- This will create a set of all vowels in the string."
   ]
  },
  {
   "cell_type": "code",
   "metadata": {},
   "outputs": [],
   "source": [
    "# Your code here"
   ]
  },
  {
   "cell_type": "markdown",
   "metadata": {},
   "source": [
    "**Question 14:** Write a Python program to create a set of all words in a string that have more than 3 letters using set comprehension.\n",
    "\n",
    "**Elaborated Hint:**\n",
    "- Use a set comprehension with the syntax `{word for word in string.split() if len(word) > 3}`.\n",
    "- This will create a set of words with more than 3 letters."
   ]
  },
  {
   "cell_type": "code",
   "metadata": {},
   "outputs": [],
   "source": [
    "# Your code here"
   ]
  },
  {
   "cell_type": "markdown",
   "metadata": {},
   "source": [
    "**Question 15:** Write a Python program to create a set of all prime numbers between 1 and 50 using set comprehension.\n",
    "\n",
    "**Elaborated Hint:**\n",
    "- Use a set comprehension with the syntax `{x for x in range(2, 51) if all(x % y != 0 for y in range(2, int(x**0.5) + 1))}`.\n",
    "- This will create a set of prime numbers between 1 and 50."
   ]
  },
  {
   "cell_type": "code",
   "metadata": {},
   "outputs": [],
   "source": [
    "# Your code here"
   ]
  },
  {
   "cell_type": "markdown",
   "metadata": {},
   "source": [
    "## 4. Nested Comprehensions\n",
    "\n",
    "**Question 16:** Write a Python program to create a list of lists representing a multiplication table (1 to 10) using nested list comprehension.\n",
    "\n",
    "**Elaborated Hint:**\n",
    "- Use a nested list comprehension with the syntax `[[x * y for y in range(1, 11)] for x in range(1, 11)]`.\n",
    "- This will create a 10x10 multiplication table."
   ]
  },
  {
   "cell_type": "code",
   "metadata": {},
   "outputs": [],
   "source": [
    "# Your code here"
   ]
  },
  {
   "cell_type": "markdown",
   "metadata": {},
   "source": [
    "**Question 17:** Write a Python program to flatten a 3D list (a list of lists of lists) using nested list comprehension.\n",
    "\n",
    "**Elaborated Hint:**\n",
    "- Use a nested list comprehension with the syntax `[item for sublist in 3d_list for subsublist in sublist for item in subsublist]`.\n",
    "- This will flatten the 3D list into a single list."
   ]
  },
  {
   "cell_type": "code",
   "metadata": {},
   "outputs": [],
   "source": [
    "# Your code here"
   ]
  },
  {
   "cell_type": "markdown",
   "metadata": {},
   "source": [
    "**Question 18:** Write a Python program to create a dictionary where keys are numbers from 1 to 5 and values are lists of their multiples (1 to 10) using nested dictionary comprehension.\n",
    "\n",
    "**Elaborated Hint:**\n",
    "- Use a nested dictionary comprehension with the syntax `{x: [x * y for y in range(1, 11)] for x in range(1, 6)}`.\n",
    "- This will create a dictionary where each key is a number and the value is a list of its multiples."
   ]
  },
  {
   "cell_type": "code",
   "metadata": {},
   "outputs": [],
   "source": [
    "# Your code here"
   ]
  },
  {
   "cell_type": "markdown",
   "metadata": {},
   "source": [
    "**Question 19:** Write a Python program to create a list of dictionaries where each dictionary contains a number and its square, cube, and fourth power using nested comprehensions.\n",
    "\n",
    "**Elaborated Hint:**\n",
    "- Use a list comprehension with the syntax `[{'number': x, 'square': x**2, 'cube': x**3, 'fourth': x**4} for x in range(1, 6)]`.\n",
    "- This will create a list of dictionaries with the required powers."
   ]
  },
  {
   "cell_type": "code",
   "metadata": {},
   "outputs": [],
   "source": [
    "# Your code here"
   ]
  },
  {
   "cell_type": "markdown",
   "metadata": {},
   "source": [
    "**Question 20:** Write a Python program to create a dictionary where keys are numbers from 1 to 5 and values are sets of their divisors using nested comprehensions.\n",
    "\n",
    "**Elaborated Hint:**\n",
    "- Use a dictionary comprehension with the syntax `{x: {y for y in range(1, x + 1) if x % y == 0} for x in range(1, 6)}`.\n",
    "- This will create a dictionary where each key is a number and the value is a set of its divisors."
   ]
  },
  {
   "cell_type": "code",
   "metadata": {},
   "outputs": [],
   "source": [
    "# Your code here"
   ]
  }
 ],
 "metadata": {
  "kernelspec": {
   "display_name": "Python 3",
   "language": "python",
   "name": "python3"
  },
  "language_info": {
   "codemirror_mode": {
    "name": "ipython",
    "version": 3
   },
   "file_extension": ".py",
   "mimetype": "text/x-python",
   "name": "python",
   "nbconvert_exporter": "python",
   "pygments_lexer": "ipython3",
   "version": "3.8.5"
  }
 },
 "nbformat": 4,
 "nbformat_minor": 4
}