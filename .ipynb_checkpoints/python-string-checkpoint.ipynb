{
 "cells": [
  {
   "cell_type": "markdown",
   "metadata": {},
   "source": [
    "# Python String Practice Questions\n",
    "## Topics Covered:\n",
    "- Basic string operations\n",
    "- String slicing and indexing\n",
    "- String methods\n",
    "- String formatting\n",
    "- Regular expressions\n",
    "- Advanced string manipulations\n"
   ]
  },
  {
   "cell_type": "markdown",
   "metadata": {},
   "source": [
    "## 1. Basic String Operations\n",
    "\n",
    "**Question 1:** Write a Python program to reverse a string.\n",
    "\n",
    "**Hint:** Use slicing with `[::-1]` to reverse the string."
   ]
  },
  {
   "cell_type": "code",
   "metadata": {},
   "outputs": [],
   "source": [
    "# Your code here"
   ]
  },
  {
   "cell_type": "markdown",
   "metadata": {},
   "source": [
    "**Question 2:** Write a Python program to check if a string is a palindrome.\n",
    "\n",
    "**Hint:** Compare the string with its reverse using slicing."
   ]
  },
  {
   "cell_type": "code",
   "metadata": {},
   "outputs": [],
   "source": [
    "# Your code here"
   ]
  },
  {
   "cell_type": "markdown",
   "metadata": {},
   "source": [
    "**Question 3:** Write a Python program to count the number of vowels in a string.\n",
    "\n",
    "**Hint:** Use a loop to iterate through the string and count vowels (`a, e, i, o, u`)."
   ]
  },
  {
   "cell_type": "code",
   "metadata": {},
   "outputs": [],
   "source": [
    "# Your code here"
   ]
  },
  {
   "cell_type": "markdown",
   "metadata": {},
   "source": [
    "**Question 4:** Write a Python program to remove all spaces from a string.\n",
    "\n",
    "**Hint:** Use the `replace()` method to replace spaces with an empty string."
   ]
  },
  {
   "cell_type": "code",
   "metadata": {},
   "outputs": [],
   "source": [
    "# Your code here"
   ]
  },
  {
   "cell_type": "markdown",
   "metadata": {},
   "source": [
    "**Question 5:** Write a Python program to capitalize the first letter of each word in a string.\n",
    "\n",
    "**Hint:** Use the `title()` method or split the string into words, capitalize each word, and join them back."
   ]
  },
  {
   "cell_type": "code",
   "metadata": {},
   "outputs": [],
   "source": [
    "# Your code here"
   ]
  },
  {
   "cell_type": "markdown",
   "metadata": {},
   "source": [
    "## 2. String Slicing and Indexing\n",
    "\n",
    "**Question 6:** Write a Python program to extract the first `n` characters from a string.\n",
    "\n",
    "**Hint:** Use slicing with `[:n]` to extract the first `n` characters."
   ]
  },
  {
   "cell_type": "code",
   "metadata": {},
   "outputs": [],
   "source": [
    "# Your code here"
   ]
  },
  {
   "cell_type": "markdown",
   "metadata": {},
   "source": [
    "**Question 7:** Write a Python program to extract the last `n` characters from a string.\n",
    "\n",
    "**Hint:** Use slicing with `[-n:]` to extract the last `n` characters."
   ]
  },
  {
   "cell_type": "code",
   "metadata": {},
   "outputs": [],
   "source": [
    "# Your code here"
   ]
  },
  {
   "cell_type": "markdown",
   "metadata": {},
   "source": [
    "**Question 8:** Write a Python program to extract a substring from a string using start and end indices.\n",
    "\n",
    "**Hint:** Use slicing with `[start:end]` to extract the substring."
   ]
  },
  {
   "cell_type": "code",
   "metadata": {},
   "outputs": [],
   "source": [
    "# Your code here"
   ]
  },
  {
   "cell_type": "markdown",
   "metadata": {},
   "source": [
    "**Question 9:** Write a Python program to reverse a string using slicing.\n",
    "\n",
    "**Hint:** Use slicing with `[::-1]` to reverse the string."
   ]
  },
  {
   "cell_type": "code",
   "metadata": {},
   "outputs": [],
   "source": [
    "# Your code here"
   ]
  },
  {
   "cell_type": "markdown",
   "metadata": {},
   "source": [
    "**Question 10:** Write a Python program to extract every second character from a string.\n",
    "\n",
    "**Hint:** Use slicing with `[::2]` to extract every second character."
   ]
  },
  {
   "cell_type": "code",
   "metadata": {},
   "outputs": [],
   "source": [
    "# Your code here"
   ]
  },
  {
   "cell_type": "markdown",
   "metadata": {},
   "source": [
    "## 3. String Methods\n",
    "\n",
    "**Question 11:** Write a Python program to count the occurrences of a specific character in a string.\n",
    "\n",
    "**Hint:** Use the `count()` method to count occurrences of a character."
   ]
  },
  {
   "cell_type": "code",
   "metadata": {},
   "outputs": [],
   "source": [
    "# Your code here"
   ]
  },
  {
   "cell_type": "markdown",
   "metadata": {},
   "source": [
    "**Question 12:** Write a Python program to replace all occurrences of a substring in a string.\n",
    "\n",
    "**Hint:** Use the `replace()` method to replace all occurrences of a substring."
   ]
  },
  {
   "cell_type": "code",
   "metadata": {},
   "outputs": [],
   "source": [
    "# Your code here"
   ]
  },
  {
   "cell_type": "markdown",
   "metadata": {},
   "source": [
    "**Question 13:** Write a Python program to split a string into a list of words.\n",
    "\n",
    "**Hint:** Use the `split()` method to split the string into words."
   ]
  },
  {
   "cell_type": "code",
   "metadata": {},
   "outputs": [],
   "source": [
    "# Your code here"
   ]
  },
  {
   "cell_type": "markdown",
   "metadata": {},
   "source": [
    "**Question 14:** Write a Python program to join a list of strings into a single string.\n",
    "\n",
    "**Hint:** Use the `join()` method to concatenate the list of strings."
   ]
  },
  {
   "cell_type": "code",
   "metadata": {},
   "outputs": [],
   "source": [
    "# Your code here"
   ]
  },
  {
   "cell_type": "markdown",
   "metadata": {},
   "source": [
    "**Question 15:** Write a Python program to check if a string starts with a specific prefix.\n",
    "\n",
    "**Hint:** Use the `startswith()` method to check if the string starts with the given prefix."
   ]
  },
  {
   "cell_type": "code",
   "metadata": {},
   "outputs": [],
   "source": [
    "# Your code here"
   ]
  },
  {
   "cell_type": "markdown",
   "metadata": {},
   "source": [
    "## 4. String Formatting\n",
    "\n",
    "**Question 16:** Write a Python program to format a string using f-strings.\n",
    "\n",
    "**Hint:** Use f-strings to embed variables directly into the string."
   ]
  },
  {
   "cell_type": "code",
   "metadata": {},
   "outputs": [],
   "source": [
    "# Your code here"
   ]
  },
  {
   "cell_type": "markdown",
   "metadata": {},
   "source": [
    "**Question 17:** Write a Python program to format a string using the `format()` method.\n",
    "\n",
    "**Hint:** Use the `format()` method to insert variables into the string."
   ]
  },
  {
   "cell_type": "code",
   "metadata": {},
   "outputs": [],
   "source": [
    "# Your code here"
   ]
  },
  {
   "cell_type": "markdown",
   "metadata": {},
   "source": [
    "**Question 18:** Write a Python program to format a string with placeholders using `%` formatting.\n",
    "\n",
    "**Hint:** Use `%s`, `%d`, etc., as placeholders and pass values using the `%` operator."
   ]
  },
  {
   "cell_type": "code",
   "metadata": {},
   "outputs": [],
   "source": [
    "# Your code here"
   ]
  },
  {
   "cell_type": "markdown",
   "metadata": {},
   "source": [
    "**Question 19:** Write a Python program to format a string with named placeholders using `format()`.\n",
    "\n",
    "**Hint:** Use named placeholders like `{name}` and pass values using the `format()` method."
   ]
  },
  {
   "cell_type": "code",
   "metadata": {},
   "outputs": [],
   "source": [
    "# Your code here"
   ]
  },
  {
   "cell_type": "markdown",
   "metadata": {},
   "source": [
    "**Question 20:** Write a Python program to format a string with dynamic width and precision.\n",
    "\n",
    "**Hint:** Use format specifiers like `{:.2f}` or `{:10}` to control width and precision."
   ]
  },
  {
   "cell_type": "code",
   "metadata": {},
   "outputs": [],
   "source": [
    "# Your code here"
   ]
  },
  {
   "cell_type": "markdown",
   "metadata": {},
   "source": [
    "## 5. Regular Expressions\n",
    "\n",
    "**Question 21:** Write a Python program to find all occurrences of a word in a string using regular expressions.\n",
    "\n",
    "**Hint:** Use the `re.findall()` function to find all occurrences of a word."
   ]
  },
  {
   "cell_type": "code",
   "metadata": {},
   "outputs": [],
   "source": [
    "# Your code here"
   ]
  },
  {
   "cell_type": "markdown",
   "metadata": {},
   "source": [
    "**Question 22:** Write a Python program to replace all occurrences of a word in a string using regular expressions.\n",
    "\n",
    "**Hint:** Use the `re.sub()` function to replace all occurrences of a word."
   ]
  },
  {
   "cell_type": "code",
   "metadata": {},
   "outputs": [],
   "source": [
    "# Your code here"
   ]
  },
  {
   "cell_type": "markdown",
   "metadata": {},
   "source": [
    "**Question 23:** Write a Python program to validate an email address using regular expressions.\n",
    "\n",
    "**Hint:** Use the `re.match()` function with a regex pattern for email validation."
   ]
  },
  {
   "cell_type": "code",
   "metadata": {},
   "outputs": [],
   "source": [
    "# Your code here"
   ]
  },
  {
   "cell_type": "markdown",
   "metadata": {},
   "source": [
    "**Question 24:** Write a Python program to extract all numbers from a string using regular expressions.\n",
    "\n",
    "**Hint:** Use the `re.findall()` function with a regex pattern to extract numbers."
   ]
  },
  {
   "cell_type": "code",
   "metadata": {},
   "outputs": [],
   "source": [
    "# Your code here"
   ]
  },
  {
   "cell_type": "markdown",
   "metadata": {},
   "source": [
    "**Question 25:** Write a Python program to split a string at uppercase letters using regular expressions.\n",
    "\n",
    "**Hint:** Use the `re.split()` function with a regex pattern to split at uppercase letters."
   ]
  },
  {
   "cell_type": "code",
   "metadata": {},
   "outputs": [],
   "source": [
    "# Your code here"
   ]
  }
 ],
 "metadata": {
  "kernelspec": {
   "display_name": "Python 3",
   "language": "python",
   "name": "python3"
  },
  "language_info": {
   "codemirror_mode": {
    "name": "ipython",
    "version": 3
   },
   "file_extension": ".py",
   "mimetype": "text/x-python",
   "name": "python",
   "nbconvert_exporter": "python",
   "pygments_lexer": "ipython3",
   "version": "3.8.5"
  }
 },
 "nbformat": 4,
 "nbformat_minor": 4
}