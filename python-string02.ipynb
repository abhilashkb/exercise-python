{
 "cells": [
  {
   "cell_type": "markdown",
   "metadata": {},
   "source": [
    "# Advanced Python String Practice Questions\n",
    "## Topics Covered:\n",
    "- Advanced string manipulations\n",
    "- Regular expressions\n",
    "- String encoding and decoding\n",
    "- String performance optimizations\n",
    "- Custom string parsing\n"
   ]
  },
  {
   "cell_type": "markdown",
   "metadata": {},
   "source": [
    "## 1. Advanced String Manipulations\n",
    "\n",
    "**Question 1:** Write a Python program to find the longest palindromic substring in a string.\n",
    "\n",
    "**Hint:** Use a nested loop to check all possible substrings and find the longest palindrome."
   ]
  },
  {
   "cell_type": "code",
   "execution_count": null,
   "metadata": {},
   "outputs": [],
   "source": [
    "# Your code here"
   ]
  },
  {
   "cell_type": "markdown",
   "metadata": {},
   "source": [
    "**Question 2:** Write a Python program to find the longest substring without repeating characters.\n",
    "\n",
    "**Hint:** Use a sliding window approach to keep track of characters and their indices."
   ]
  },
  {
   "cell_type": "code",
   "execution_count": null,
   "metadata": {},
   "outputs": [],
   "source": [
    "# Your code here"
   ]
  },
  {
   "cell_type": "markdown",
   "metadata": {},
   "source": [
    "**Question 3:** Write a Python program to find all anagrams of a word in a list of strings.\n",
    "\n",
    "**Hint:** Use sorting or a frequency dictionary to compare words."
   ]
  },
  {
   "cell_type": "code",
   "execution_count": null,
   "metadata": {},
   "outputs": [],
   "source": [
    "# Your code here"
   ]
  },
  {
   "cell_type": "markdown",
   "metadata": {},
   "source": [
    "**Question 4:** Write a Python program to find the smallest window in a string that contains all characters of another string.\n",
    "\n",
    "**Hint:** Use a sliding window approach with two pointers to track the smallest window."
   ]
  },
  {
   "cell_type": "code",
   "execution_count": null,
   "metadata": {},
   "outputs": [],
   "source": [
    "# Your code here"
   ]
  },
  {
   "cell_type": "markdown",
   "metadata": {},
   "source": [
    "**Question 5:** Write a Python program to count the number of substrings with exactly `k` distinct characters.\n",
    "\n",
    "**Hint:** Use a sliding window approach with a frequency dictionary to count substrings."
   ]
  },
  {
   "cell_type": "code",
   "execution_count": null,
   "metadata": {},
   "outputs": [],
   "source": [
    "# Your code here"
   ]
  },
  {
   "cell_type": "markdown",
   "metadata": {},
   "source": [
    "## 2. Regular Expressions\n",
    "\n",
    "**Question 6:** Write a Python program to validate a phone number using regular expressions.\n",
    "\n",
    "**Hint:** Use the `re.match()` function with a regex pattern for phone number validation."
   ]
  },
  {
   "cell_type": "code",
   "execution_count": null,
   "metadata": {},
   "outputs": [],
   "source": [
    "# Your code here"
   ]
  },
  {
   "cell_type": "markdown",
   "metadata": {},
   "source": [
    "**Question 7:** Write a Python program to extract all email addresses from a string using regular expressions.\n",
    "\n",
    "**Hint:** Use the `re.findall()` function with a regex pattern for email extraction."
   ]
  },
  {
   "cell_type": "code",
   "execution_count": null,
   "metadata": {},
   "outputs": [],
   "source": [
    "# Your code here"
   ]
  },
  {
   "cell_type": "markdown",
   "metadata": {},
   "source": [
    "**Question 8:** Write a Python program to extract all URLs from a string using regular expressions.\n",
    "\n",
    "**Hint:** Use the `re.findall()` function with a regex pattern for URL extraction."
   ]
  },
  {
   "cell_type": "code",
   "execution_count": null,
   "metadata": {},
   "outputs": [],
   "source": [
    "# Your code here"
   ]
  },
  {
   "cell_type": "markdown",
   "metadata": {},
   "source": [
    "**Question 9:** Write a Python program to replace all occurrences of multiple spaces with a single space using regular expressions.\n",
    "\n",
    "**Hint:** Use the `re.sub()` function with a regex pattern to replace multiple spaces."
   ]
  },
  {
   "cell_type": "code",
   "execution_count": null,
   "metadata": {},
   "outputs": [],
   "source": [
    "# Your code here"
   ]
  },
  {
   "cell_type": "markdown",
   "metadata": {},
   "source": [
    "**Question 10:** Write a Python program to extract all hashtags from a string using regular expressions.\n",
    "\n",
    "**Hint:** Use the `re.findall()` function with a regex pattern for hashtag extraction."
   ]
  },
  {
   "cell_type": "code",
   "execution_count": null,
   "metadata": {},
   "outputs": [],
   "source": [
    "# Your code here"
   ]
  },
  {
   "cell_type": "markdown",
   "metadata": {},
   "source": [
    "## 3. String Encoding and Decoding\n",
    "\n",
    "**Question 11:** Write a Python program to encode a string using Base64 encoding.\n",
    "\n",
    "**Hint:** Use the `base64` module to encode the string."
   ]
  },
  {
   "cell_type": "code",
   "execution_count": null,
   "metadata": {},
   "outputs": [],
   "source": [
    "# Your code here"
   ]
  },
  {
   "cell_type": "markdown",
   "metadata": {},
   "source": [
    "**Question 12:** Write a Python program to decode a Base64 encoded string.\n",
    "\n",
    "**Hint:** Use the `base64` module to decode the string."
   ]
  },
  {
   "cell_type": "code",
   "execution_count": null,
   "metadata": {},
   "outputs": [],
   "source": [
    "# Your code here"
   ]
  },
  {
   "cell_type": "markdown",
   "metadata": {},
   "source": [
    "**Question 13:** Write a Python program to encode a string using URL encoding.\n",
    "\n",
    "**Hint:** Use the `urllib.parse.quote()` function to encode the string."
   ]
  },
  {
   "cell_type": "code",
   "execution_count": null,
   "metadata": {},
   "outputs": [],
   "source": [
    "# Your code here"
   ]
  },
  {
   "cell_type": "markdown",
   "metadata": {},
   "source": [
    "**Question 14:** Write a Python program to decode a URL encoded string.\n",
    "\n",
    "**Hint:** Use the `urllib.parse.unquote()` function to decode the string."
   ]
  },
  {
   "cell_type": "code",
   "execution_count": null,
   "metadata": {},
   "outputs": [],
   "source": [
    "# Your code here"
   ]
  },
  {
   "cell_type": "markdown",
   "metadata": {},
   "source": [
    "**Question 15:** Write a Python program to encode a string using Caesar cipher encryption.\n",
    "\n",
    "**Hint:** Shift each character by a fixed number in the alphabet."
   ]
  },
  {
   "cell_type": "code",
   "execution_count": null,
   "metadata": {},
   "outputs": [],
   "source": [
    "# Your code here"
   ]
  },
  {
   "cell_type": "markdown",
   "metadata": {},
   "source": [
    "## 4. String Performance Optimizations\n",
    "\n",
    "**Question 16:** Write a Python program to concatenate a large list of strings efficiently.\n",
    "\n",
    "**Hint:** Use `str.join()` instead of `+` for concatenation to avoid performance issues."
   ]
  },
  {
   "cell_type": "code",
   "execution_count": null,
   "metadata": {},
   "outputs": [],
   "source": [
    "# Your code here"
   ]
  },
  {
   "cell_type": "markdown",
   "metadata": {},
   "source": [
    "**Question 17:** Write a Python program to check if two strings are anagrams using a frequency dictionary.\n",
    "\n",
    "**Hint:** Use a dictionary to count the frequency of characters in both strings and compare them."
   ]
  },
  {
   "cell_type": "code",
   "execution_count": null,
   "metadata": {},
   "outputs": [],
   "source": [
    "# Your code here"
   ]
  },
  {
   "cell_type": "markdown",
   "metadata": {},
   "source": [
    "**Question 18:** Write a Python program to find the most frequent character in a string using a frequency dictionary.\n",
    "\n",
    "**Hint:** Use a dictionary to count the frequency of each character and find the maximum."
   ]
  },
  {
   "cell_type": "code",
   "execution_count": null,
   "metadata": {},
   "outputs": [],
   "source": [
    "# Your code here"
   ]
  },
  {
   "cell_type": "markdown",
   "metadata": {},
   "source": [
    "**Question 19:** Write a Python program to remove duplicate characters from a string efficiently.\n",
    "\n",
    "**Hint:** Use a set to track seen characters and build the result string."
   ]
  },
  {
   "cell_type": "code",
   "execution_count": null,
   "metadata": {},
   "outputs": [],
   "source": [
    "# Your code here"
   ]
  },
  {
   "cell_type": "markdown",
   "metadata": {},
   "source": [
    "**Question 20:** Write a Python program to check if a string is a valid shuffle of two other strings.\n",
    "\n",
    "**Hint:** Use sorting or a frequency dictionary to compare the characters in the strings."
   ]
  },
  {
   "cell_type": "code",
   "execution_count": null,
   "metadata": {},
   "outputs": [],
   "source": [
    "# Your code here"
   ]
  }
 ],
 "metadata": {
  "kernelspec": {
   "display_name": "Python 3 (ipykernel)",
   "language": "python",
   "name": "python3"
  },
  "language_info": {
   "codemirror_mode": {
    "name": "ipython",
    "version": 3
   },
   "file_extension": ".py",
   "mimetype": "text/x-python",
   "name": "python",
   "nbconvert_exporter": "python",
   "pygments_lexer": "ipython3",
   "version": "3.10.12"
  }
 },
 "nbformat": 4,
 "nbformat_minor": 4
}
