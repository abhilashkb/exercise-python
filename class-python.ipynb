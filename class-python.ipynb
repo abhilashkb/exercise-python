{
 "cells": [
  {
   "cell_type": "markdown",
   "metadata": {},
   "source": [
    "# Tricky Python Class and OOP Practice Questions\n",
    "## Topics Covered:\n",
    "- Class creation and instance methods\n",
    "- Inheritance and method overriding\n",
    "- Polymorphism and duck typing\n",
    "- Class and static methods\n",
    "- Property decorators and encapsulation\n",
    "- Advanced OOP concepts (e.g., abstract classes, multiple inheritance)\n"
   ]
  },
  {
   "cell_type": "markdown",
   "metadata": {},
   "source": [
    "## 1. Class Creation and Instance Methods\n",
    "\n",
    "**Question 1:** Create a Python class `Rectangle` with attributes `length` and `width`. Add methods to calculate the area and perimeter of the rectangle.\n",
    "\n",
    "**Elaborated Hint:**\n",
    "- Define the `__init__` method to initialize `length` and `width`.\n",
    "- Create instance methods `area()` and `perimeter()` to calculate the area (`length * width`) and perimeter (`2 * (length + width)`)."
   ]
  },
  {
   "cell_type": "code",
   "execution_count": null,
   "metadata": {},
   "outputs": [],
   "source": [
    "# Your code here"
   ]
  },
  {
   "cell_type": "markdown",
   "metadata": {},
   "source": [
    "**Question 2:** Create a Python class `BankAccount` with attributes `account_number`, `balance`, and `owner_name`. Add methods to deposit and withdraw money, ensuring the balance cannot go below zero.\n",
    "\n",
    "**Elaborated Hint:**\n",
    "- Define the `__init__` method to initialize the account details.\n",
    "- Create methods `deposit(amount)` and `withdraw(amount)`.\n",
    "- In the `withdraw` method, check if the balance is sufficient before deducting the amount."
   ]
  },
  {
   "cell_type": "code",
   "execution_count": null,
   "metadata": {},
   "outputs": [],
   "source": [
    "# Your code here"
   ]
  },
  {
   "cell_type": "markdown",
   "metadata": {},
   "source": [
    "## 2. Inheritance and Method Overriding\n",
    "\n",
    "**Question 3:** Create a base class `Animal` with a method `speak()`. Create two derived classes `Dog` and `Cat` that override the `speak()` method to return \"Woof!\" and \"Meow!\" respectively.\n",
    "\n",
    "**Elaborated Hint:**\n",
    "- Define the `Animal` class with a `speak()` method that returns a generic message.\n",
    "- Create `Dog` and `Cat` classes that inherit from `Animal` and override the `speak()` method."
   ]
  },
  {
   "cell_type": "code",
   "execution_count": null,
   "metadata": {},
   "outputs": [],
   "source": [
    "# Your code here"
   ]
  },
  {
   "cell_type": "markdown",
   "metadata": {},
   "source": [
    "**Question 4:** Create a base class `Vehicle` with attributes `make`, `model`, and `year`. Create a derived class `Car` that adds an attribute `num_doors` and overrides the `__str__` method to display all details.\n",
    "\n",
    "**Elaborated Hint:**\n",
    "- Define the `Vehicle` class with `__init__` to initialize `make`, `model`, and `year`.\n",
    "- Create the `Car` class that inherits from `Vehicle` and adds `num_doors`.\n",
    "- Override the `__str__` method in `Car` to return a formatted string with all details."
   ]
  },
  {
   "cell_type": "code",
   "execution_count": null,
   "metadata": {},
   "outputs": [],
   "source": [
    "# Your code here"
   ]
  },
  {
   "cell_type": "markdown",
   "metadata": {},
   "source": [
    "## 3. Polymorphism and Duck Typing\n",
    "\n",
    "**Question 5:** Create a function `make_sound(animal)` that takes an object (e.g., `Dog` or `Cat`) and calls its `speak()` method. Demonstrate polymorphism by passing different objects to this function.\n",
    "\n",
    "**Elaborated Hint:**\n",
    "- Define the `make_sound(animal)` function that calls the `speak()` method of the passed object.\n",
    "- Create instances of `Dog` and `Cat` and pass them to `make_sound()` to demonstrate polymorphism."
   ]
  },
  {
   "cell_type": "code",
   "execution_count": null,
   "metadata": {},
   "outputs": [],
   "source": [
    "# Your code here"
   ]
  },
  {
   "cell_type": "markdown",
   "metadata": {},
   "source": [
    "**Question 6:** Create a class `Bird` with a method `fly()`. Create another class `Airplane` with a method `fly()`. Write a function `let_it_fly(obj)` that calls the `fly()` method of the passed object, demonstrating duck typing.\n",
    "\n",
    "**Elaborated Hint:**\n",
    "- Define the `Bird` and `Airplane` classes, each with a `fly()` method.\n",
    "- Write the `let_it_fly(obj)` function that calls `fly()` on the passed object.\n",
    "- Pass instances of `Bird` and `Airplane` to `let_it_fly()` to demonstrate duck typing."
   ]
  },
  {
   "cell_type": "code",
   "execution_count": null,
   "metadata": {},
   "outputs": [],
   "source": [
    "# Your code here"
   ]
  },
  {
   "cell_type": "markdown",
   "metadata": {},
   "source": [
    "## 4. Class and Static Methods\n",
    "\n",
    "**Question 7:** Create a class `MathOperations` with a class method `add(cls, a, b)` and a static method `multiply(a, b)`. Demonstrate their usage.\n",
    "\n",
    "**Elaborated Hint:**\n",
    "- Define the `MathOperations` class.\n",
    "- Use the `@classmethod` decorator for `add(cls, a, b)` and the `@staticmethod` decorator for `multiply(a, b)`.\n",
    "- Call these methods using the class name."
   ]
  },
  {
   "cell_type": "code",
   "execution_count": null,
   "metadata": {},
   "outputs": [],
   "source": [
    "# Your code here"
   ]
  },
  {
   "cell_type": "markdown",
   "metadata": {},
   "source": [
    "**Question 8:** Create a class `StringUtils` with a static method `is_palindrome(s)` that checks if a string is a palindrome.\n",
    "\n",
    "**Elaborated Hint:**\n",
    "- Define the `StringUtils` class.\n",
    "- Use the `@staticmethod` decorator for `is_palindrome(s)`.\n",
    "- Check if the string is equal to its reverse."
   ]
  },
  {
   "cell_type": "code",
   "execution_count": null,
   "metadata": {},
   "outputs": [],
   "source": [
    "# Your code here"
   ]
  },
  {
   "cell_type": "markdown",
   "metadata": {},
   "source": [
    "## 5. Property Decorators and Encapsulation\n",
    "\n",
    "**Question 9:** Create a class `Temperature` with a private attribute `_celsius` and a property `celsius` that allows getting and setting the temperature in Celsius. Add a property `fahrenheit` that converts Celsius to Fahrenheit.\n",
    "\n",
    "**Elaborated Hint:**\n",
    "- Define the `Temperature` class with a private attribute `_celsius`.\n",
    "- Use the `@property` decorator for `celsius` to allow getting and setting the value.\n",
    "- Use the `@property` decorator for `fahrenheit` to convert Celsius to Fahrenheit using the formula `(celsius * 9/5) + 32`."
   ]
  },
  {
   "cell_type": "code",
   "execution_count": null,
   "metadata": {},
   "outputs": [],
   "source": [
    "# Your code here"
   ]
  },
  {
   "cell_type": "markdown",
   "metadata": {},
   "source": [
    "**Question 10:** Create a class `Person` with private attributes `_name` and `_age`. Use property decorators to enforce that `age` cannot be set to a negative value.\n",
    "\n",
    "**Elaborated Hint:**\n",
    "- Define the `Person` class with private attributes `_name` and `_age`.\n",
    "- Use the `@property` decorator for `age` to allow getting the value.\n",
    "- Use the `@age.setter` decorator to enforce that `age` cannot be set to a negative value."
   ]
  },
  {
   "cell_type": "code",
   "execution_count": null,
   "metadata": {},
   "outputs": [],
   "source": [
    "# Your code here"
   ]
  },
  {
   "cell_type": "markdown",
   "metadata": {},
   "source": [
    "## 6. Advanced OOP Concepts\n",
    "\n",
    "**Question 11:** Create an abstract base class `Shape` with an abstract method `area()`. Create derived classes `Circle` and `Square` that implement the `area()` method.\n",
    "\n",
    "**Elaborated Hint:**\n",
    "- Use the `abc` module to define the abstract base class `Shape`.\n",
    "- Use the `@abstractmethod` decorator for the `area()` method.\n",
    "- Create `Circle` and `Square` classes that inherit from `Shape` and implement the `area()` method."
   ]
  },
  {
   "cell_type": "code",
   "execution_count": null,
   "metadata": {},
   "outputs": [],
   "source": [
    "# Your code here"
   ]
  },
  {
   "cell_type": "markdown",
   "metadata": {},
   "source": [
    "**Question 12:** Create a class `A` with a method `greet()` that returns \"Hello from A\". Create a class `B` with a method `greet()` that returns \"Hello from B\". Create a class `C` that inherits from both `A` and `B` and resolves the method conflict using `super()`.\n",
    "\n",
    "**Elaborated Hint:**\n",
    "- Define classes `A` and `B`, each with a `greet()` method.\n",
    "- Create class `C` that inherits from both `A` and `B`.\n",
    "- Use `super()` in `C` to call the `greet()` method from `A`."
   ]
  },
  {
   "cell_type": "code",
   "execution_count": null,
   "metadata": {},
   "outputs": [],
   "source": [
    "# Your code here"
   ]
  }
 ],
 "metadata": {
  "kernelspec": {
   "display_name": "Python 3",
   "language": "python",
   "name": "python3"
  },
  "language_info": {
   "codemirror_mode": {
    "name": "ipython",
    "version": 3
   },
   "file_extension": ".py",
   "mimetype": "text/x-python",
   "name": "python",
   "nbconvert_exporter": "python",
   "pygments_lexer": "ipython3",
   "version": "3.8.5"
  }
 },
 "nbformat": 4,
 "nbformat_minor": 4
}
