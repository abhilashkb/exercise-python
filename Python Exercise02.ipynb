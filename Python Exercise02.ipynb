{
 "cells": [
  {
   "cell_type": "markdown",
   "metadata": {},
   "source": [
    "# Advanced Tricky Python Practice Questions\n",
    "## Topics Covered:\n",
    "- Advanced list and dictionary manipulations\n",
    "- Functional programming (map, filter, reduce)\n",
    "- Generators and iterators\n",
    "- Decorators and context managers\n",
    "- Advanced OOP concepts\n",
    "- Algorithmic challenges\n",
    "- Pythonic tricks and optimizations\n"
   ]
  },
  {
   "cell_type": "markdown",
   "metadata": {},
   "source": [
    "## 1. Advanced List and Dictionary Manipulations\n",
    "\n",
    "**Question 1:** Write a Python program to find the second largest number in a list using list comprehension.\n",
    "\n",
    "**Elaborated Hint:**\n",
    "- Use list comprehension to create a sorted list and then access the second last element.\n",
    "- Alternatively, use a single pass to find the two largest numbers."
   ]
  },
  {
   "cell_type": "code",
   "execution_count": null,
   "metadata": {},
   "outputs": [],
   "source": [
    "# Your code here"
   ]
  },
  {
   "cell_type": "markdown",
   "metadata": {},
   "source": [
    "**Question 2:** Write a Python program to merge two dictionaries into one, with values from the second dictionary overwriting the first if keys overlap.\n",
    "\n",
    "**Elaborated Hint:**\n",
    "- Use dictionary unpacking with `{**dict1, **dict2}` or the `update()` method."
   ]
  },
  {
   "cell_type": "code",
   "execution_count": null,
   "metadata": {},
   "outputs": [],
   "source": [
    "# Your code here"
   ]
  },
  {
   "cell_type": "markdown",
   "metadata": {},
   "source": [
    "**Question 3:** Write a Python program to find the intersection of two lists using list comprehension.\n",
    "\n",
    "**Elaborated Hint:**\n",
    "- Use list comprehension with the syntax `[x for x in list1 if x in list2]`."
   ]
  },
  {
   "cell_type": "code",
   "execution_count": null,
   "metadata": {},
   "outputs": [],
   "source": [
    "# Your code here"
   ]
  },
  {
   "cell_type": "markdown",
   "metadata": {},
   "source": [
    "**Question 4:** Write a Python program to count the frequency of each element in a list using dictionary comprehension.\n",
    "\n",
    "**Elaborated Hint:**\n",
    "- Use dictionary comprehension with the syntax `{x: list.count(x) for x in set(list)}`."
   ]
  },
  {
   "cell_type": "code",
   "execution_count": null,
   "metadata": {},
   "outputs": [],
   "source": [
    "# Your code here"
   ]
  },
  {
   "cell_type": "markdown",
   "metadata": {},
   "source": [
    "**Question 5:** Write a Python program to flatten a nested list of arbitrary depth using recursion.\n",
    "\n",
    "**Elaborated Hint:**\n",
    "- Use recursion to handle lists of arbitrary depth. Check if an element is a list and recursively flatten it."
   ]
  },
  {
   "cell_type": "code",
   "execution_count": null,
   "metadata": {},
   "outputs": [],
   "source": [
    "# Your code here"
   ]
  },
  {
   "cell_type": "markdown",
   "metadata": {},
   "source": [
    "## 2. Functional Programming\n",
    "\n",
    "**Question 6:** Write a Python program to multiply all elements in a list using `functools.reduce`.\n",
    "\n",
    "**Elaborated Hint:**\n",
    "- Use `reduce()` from the `functools` module with a lambda function to multiply elements."
   ]
  },
  {
   "cell_type": "code",
   "execution_count": null,
   "metadata": {},
   "outputs": [],
   "source": [
    "# Your code here"
   ]
  },
  {
   "cell_type": "markdown",
   "metadata": {},
   "source": [
    "**Question 7:** Write a Python program to filter out all prime numbers from a list using `filter()` and a lambda function.\n",
    "\n",
    "**Elaborated Hint:**\n",
    "- Use `filter()` with a lambda function that checks if a number is prime."
   ]
  },
  {
   "cell_type": "code",
   "execution_count": null,
   "metadata": {},
   "outputs": [],
   "source": [
    "# Your code here"
   ]
  },
  {
   "cell_type": "markdown",
   "metadata": {},
   "source": [
    "**Question 8:** Write a Python program to apply a function to every element of a list using `map()`.\n",
    "\n",
    "**Elaborated Hint:**\n",
    "- Use `map()` with a lambda function or a custom function to apply it to each element."
   ]
  },
  {
   "cell_type": "code",
   "execution_count": null,
   "metadata": {},
   "outputs": [],
   "source": [
    "# Your code here"
   ]
  },
  {
   "cell_type": "markdown",
   "metadata": {},
   "source": [
    "**Question 9:** Write a Python program to find the cumulative sum of a list using `itertools.accumulate`.\n",
    "\n",
    "**Elaborated Hint:**\n",
    "- Use `accumulate()` from the `itertools` module to generate the cumulative sum."
   ]
  },
  {
   "cell_type": "code",
   "execution_count": null,
   "metadata": {},
   "outputs": [],
   "source": [
    "# Your code here"
   ]
  },
  {
   "cell_type": "markdown",
   "metadata": {},
   "source": [
    "**Question 10:** Write a Python program to group elements of a list into sublists of size `n` using `itertools.groupby`.\n",
    "\n",
    "**Elaborated Hint:**\n",
    "- Use `groupby()` from the `itertools` module to group elements into sublists."
   ]
  },
  {
   "cell_type": "code",
   "execution_count": null,
   "metadata": {},
   "outputs": [],
   "source": [
    "# Your code here"
   ]
  },
  {
   "cell_type": "markdown",
   "metadata": {},
   "source": [
    "## 3. Generators and Iterators\n",
    "\n",
    "**Question 11:** Write a Python generator function to generate an infinite sequence of Fibonacci numbers.\n",
    "\n",
    "**Elaborated Hint:**\n",
    "- Use `yield` in a generator function to generate Fibonacci numbers indefinitely."
   ]
  },
  {
   "cell_type": "code",
   "execution_count": null,
   "metadata": {},
   "outputs": [],
   "source": [
    "# Your code here"
   ]
  },
  {
   "cell_type": "markdown",
   "metadata": {},
   "source": [
    "**Question 12:** Write a Python program to create an iterator that returns numbers from 1 to `n` indefinitely.\n",
    "\n",
    "**Elaborated Hint:**\n",
    "- Use `itertools.cycle()` to create an infinite iterator that cycles through numbers from 1 to `n`."
   ]
  },
  {
   "cell_type": "code",
   "execution_count": null,
   "metadata": {},
   "outputs": [],
   "source": [
    "# Your code here"
   ]
  },
  {
   "cell_type": "markdown",
   "metadata": {},
   "source": [
    "**Question 13:** Write a Python program to create a generator that yields prime numbers indefinitely.\n",
    "\n",
    "**Elaborated Hint:**\n",
    "- Use a generator function with `yield` to generate prime numbers indefinitely."
   ]
  },
  {
   "cell_type": "code",
   "execution_count": null,
   "metadata": {},
   "outputs": [],
   "source": [
    "# Your code here"
   ]
  },
  {
   "cell_type": "markdown",
   "metadata": {},
   "source": [
    "**Question 14:** Write a Python program to create an iterator that returns all permutations of a list.\n",
    "\n",
    "**Elaborated Hint:**\n",
    "- Use `itertools.permutations()` to generate all permutations of a list."
   ]
  },
  {
   "cell_type": "code",
   "execution_count": null,
   "metadata": {},
   "outputs": [],
   "source": [
    "# Your code here"
   ]
  },
  {
   "cell_type": "markdown",
   "metadata": {},
   "source": [
    "**Question 15:** Write a Python program to create a generator that yields all combinations of a list of size `k`.\n",
    "\n",
    "**Elaborated Hint:**\n",
    "- Use `itertools.combinations()` to generate all combinations of size `k`."
   ]
  },
  {
   "cell_type": "code",
   "execution_count": null,
   "metadata": {},
   "outputs": [],
   "source": [
    "# Your code here"
   ]
  },
  {
   "cell_type": "markdown",
   "metadata": {},
   "source": [
    "## 4. Decorators and Context Managers\n",
    "\n",
    "**Question 16:** Write a Python decorator to measure the execution time of a function.\n",
    "\n",
    "**Elaborated Hint:**\n",
    "- Use the `time` module to measure the start and end time of the function execution."
   ]
  },
  {
   "cell_type": "code",
   "execution_count": null,
   "metadata": {},
   "outputs": [],
   "source": [
    "# Your code here"
   ]
  },
  {
   "cell_type": "markdown",
   "metadata": {},
   "source": [
    "**Question 17:** Write a Python decorator to log function calls with their arguments and return values.\n",
    "\n",
    "**Elaborated Hint:**\n",
    "- Use `*args` and `**kwargs` to capture function arguments and log them along with the return value."
   ]
  },
  {
   "cell_type": "code",
   "execution_count": null,
   "metadata": {},
   "outputs": [],
   "source": [
    "# Your code here"
   ]
  },
  {
   "cell_type": "markdown",
   "metadata": {},
   "source": [
    "**Question 18:** Write a Python context manager to handle file operations and automatically close the file.\n",
    "\n",
    "**Elaborated Hint:**\n",
    "- Use the `__enter__` and `__exit__` methods to handle file opening and closing."
   ]
  },
  {
   "cell_type": "code",
   "execution_count": null,
   "metadata": {},
   "outputs": [],
   "source": [
    "# Your code here"
   ]
  },
  {
   "cell_type": "markdown",
   "metadata": {},
   "source": [
    "**Question 19:** Write a Python context manager to measure the execution time of a block of code.\n",
    "\n",
    "**Elaborated Hint:**\n",
    "- Use the `time` module to measure the start and end time of the block of code."
   ]
  },
  {
   "cell_type": "code",
   "execution_count": null,
   "metadata": {},
   "outputs": [],
   "source": [
    "# Your code here"
   ]
  },
  {
   "cell_type": "markdown",
   "metadata": {},
   "source": [
    "**Question 20:** Write a Python decorator to retry a function a specified number of times if it raises an exception.\n",
    "\n",
    "**Elaborated Hint:**\n",
    "- Use a loop to retry the function and handle exceptions using `try-except`."
   ]
  },
  {
   "cell_type": "code",
   "execution_count": null,
   "metadata": {},
   "outputs": [],
   "source": [
    "# Your code here"
   ]
  },
  {
   "cell_type": "markdown",
   "metadata": {},
   "source": [
    "# Tricky Python Class and OOP Practice Questions\n",
    "## Topics Covered:\n",
    "- Class creation and instance methods\n",
    "- Inheritance and method overriding\n",
    "- Polymorphism and duck typing\n",
    "- Class and static methods\n",
    "- Property decorators and encapsulation\n",
    "- Advanced OOP concepts (e.g., abstract classes, multiple inheritance)\n"
   ]
  },
  {
   "cell_type": "markdown",
   "metadata": {},
   "source": [
    "## 6. Advanced OOP Concepts\n",
    "\n",
    "**Question 11:** Create an abstract base class `Shape` with an abstract method `area()`. Create derived classes `Circle` and `Square` that implement the `area()` method.\n",
    "\n",
    "**Elaborated Hint:**\n",
    "- Use the `abc` module to define the abstract base class `Shape`.\n",
    "- Use the `@abstractmethod` decorator for the `area()` method.\n",
    "- Create `Circle` and `Square` classes that inherit from `Shape` and implement the `area()` method."
   ]
  },
  {
   "cell_type": "code",
   "execution_count": null,
   "metadata": {},
   "outputs": [],
   "source": [
    "from abc import ABC, abstractmethod\n",
    "import math\n",
    "\n",
    "class Shape(ABC):\n",
    "    @abstractmethod\n",
    "    def area(self):\n",
    "        pass\n",
    "\n",
    "class Circle(Shape):\n",
    "    def __init__(self, radius):\n",
    "        self.radius = radius\n",
    "\n",
    "    def area(self):\n",
    "        return math.pi * self.radius ** 2\n",
    "\n",
    "class Square(Shape):\n",
    "    def __init__(self, side):\n",
    "        self.side = side\n",
    "\n",
    "    def area(self):\n",
    "        return self.side ** 2\n",
    "\n",
    "# Example usage:\n",
    "circle = Circle(5)\n",
    "square = Square(4)\n",
    "print(f\"Circle area: {circle.area()}\")\n",
    "print(f\"Square area: {square.area()}\")"
   ]
  },
  {
   "cell_type": "markdown",
   "metadata": {},
   "source": [
    "**Question 12:** Create a class `A` with a method `greet()` that returns \"Hello from A\". Create a class `B` with a method `greet()` that returns \"Hello from B\". Create a class `C` that inherits from both `A` and `B` and resolves the method conflict using `super()`.\n",
    "\n",
    "**Elaborated Hint:**\n",
    "- Define classes `A` and `B`, each with a `greet()` method.\n",
    "- Create class `C` that inherits from both `A` and `B`.\n",
    "- Use `super()` in `C` to call the `greet()` method from `A`."
   ]
  },
  {
   "cell_type": "code",
   "execution_count": null,
   "metadata": {},
   "outputs": [],
   "source": [
    "class A:\n",
    "    def greet(self):\n",
    "        return \"Hello from A\"\n",
    "\n",
    "class B:\n",
    "    def greet(self):\n",
    "        return \"Hello from B\"\n",
    "\n",
    "class C(A, B):\n",
    "    def greet(self):\n",
    "        return super().greet()\n",
    "\n",
    "# Example usage:\n",
    "c_instance = C()\n",
    "print(c_instance.greet())"
   ]
  }
 ],
 "metadata": {
  "kernelspec": {
   "display_name": "Python 3 (ipykernel)",
   "language": "python",
   "name": "python3"
  },
  "language_info": {
   "codemirror_mode": {
    "name": "ipython",
    "version": 3
   },
   "file_extension": ".py",
   "mimetype": "text/x-python",
   "name": "python",
   "nbconvert_exporter": "python",
   "pygments_lexer": "ipython3",
   "version": "3.10.12"
  }
 },
 "nbformat": 4,
 "nbformat_minor": 4
}
