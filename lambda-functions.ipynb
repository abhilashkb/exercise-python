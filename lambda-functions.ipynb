{
 "cells": [
  {
   "cell_type": "markdown",
   "metadata": {},
   "source": [
    "# Tricky Python Anonymous Function (Lambda) Practice Questions\n",
    "## Topics Covered:\n",
    "- Lambda functions with `map()`\n",
    "- Lambda functions with `filter()`\n",
    "- Lambda functions with `reduce()`\n",
    "- Nested lambda functions\n",
    "- Lambda functions with sorting\n",
    "- Advanced lambda use cases\n"
   ]
  },
  {
   "cell_type": "markdown",
   "metadata": {},
   "source": [
    "## 1. Lambda with `map()`\n",
    "\n",
    "**Question 1:** Write a Python program to square all elements in a list using `map()` and a lambda function.\n",
    "\n",
    "**Hint:** Use `map()` with a lambda function to apply the square operation to each element."
   ]
  },
  {
   "cell_type": "code",
   "metadata": {},
   "outputs": [],
   "source": [
    "# Your code here"
   ]
  },
  {
   "cell_type": "markdown",
   "metadata": {},
   "source": [
    "**Question 2:** Write a Python program to convert a list of strings to uppercase using `map()` and a lambda function.\n",
    "\n",
    "**Hint:** Use `map()` with a lambda function to apply the `upper()` method to each string."
   ]
  },
  {
   "cell_type": "code",
   "metadata": {},
   "outputs": [],
   "source": [
    "# Your code here"
   ]
  },
  {
   "cell_type": "markdown",
   "metadata": {},
   "source": [
    "## 2. Lambda with `filter()`\n",
    "\n",
    "**Question 3:** Write a Python program to filter out all even numbers from a list using `filter()` and a lambda function.\n",
    "\n",
    "**Hint:** Use `filter()` with a lambda function to check if a number is even."
   ]
  },
  {
   "cell_type": "code",
   "metadata": {},
   "outputs": [],
   "source": [
    "# Your code here"
   ]
  },
  {
   "cell_type": "markdown",
   "metadata": {},
   "source": [
    "**Question 4:** Write a Python program to filter out all strings that start with the letter 'A' using `filter()` and a lambda function.\n",
    "\n",
    "**Hint:** Use `filter()` with a lambda function to check the first character of each string."
   ]
  },
  {
   "cell_type": "code",
   "metadata": {},
   "outputs": [],
   "source": [
    "# Your code here"
   ]
  },
  {
   "cell_type": "markdown",
   "metadata": {},
   "source": [
    "## 3. Lambda with `reduce()`\n",
    "\n",
    "**Question 5:** Write a Python program to find the product of all elements in a list using `reduce()` and a lambda function.\n",
    "\n",
    "**Hint:** Use `reduce()` from the `functools` module with a lambda function to multiply elements."
   ]
  },
  {
   "cell_type": "code",
   "metadata": {},
   "outputs": [],
   "source": [
    "# Your code here"
   ]
  },
  {
   "cell_type": "markdown",
   "metadata": {},
   "source": [
    "**Question 6:** Write a Python program to find the maximum element in a list using `reduce()` and a lambda function.\n",
    "\n",
    "**Hint:** Use `reduce()` with a lambda function to compare two elements at a time."
   ]
  },
  {
   "cell_type": "code",
   "metadata": {},
   "outputs": [],
   "source": [
    "# Your code here"
   ]
  },
  {
   "cell_type": "markdown",
   "metadata": {},
   "source": [
    "## 4. Nested Lambda Functions\n",
    "\n",
    "**Question 7:** Write a Python program to create a nested lambda function that takes two arguments and returns the sum of their squares.\n",
    "\n",
    "**Hint:** Define a lambda function inside another lambda function."
   ]
  },
  {
   "cell_type": "code",
   "metadata": {},
   "outputs": [],
   "source": [
    "# Your code here"
   ]
  },
  {
   "cell_type": "markdown",
   "metadata": {},
   "source": [
    "**Question 8:** Write a Python program to create a lambda function that takes a function `f` and a value `x` and returns `f(f(x))`.\n",
    "\n",
    "**Hint:** Use a lambda function to call another function twice."
   ]
  },
  {
   "cell_type": "code",
   "metadata": {},
   "outputs": [],
   "source": [
    "# Your code here"
   ]
  },
  {
   "cell_type": "markdown",
   "metadata": {},
   "source": [
    "## 5. Lambda with Sorting\n",
    "\n",
    "**Question 9:** Write a Python program to sort a list of tuples based on the second element using a lambda function.\n",
    "\n",
    "**Hint:** Use `sorted()` with a lambda function as the `key` argument."
   ]
  },
  {
   "cell_type": "code",
   "metadata": {},
   "outputs": [],
   "source": [
    "# Your code here"
   ]
  },
  {
   "cell_type": "markdown",
   "metadata": {},
   "source": [
    "**Question 10:** Write a Python program to sort a list of dictionaries by a specific key using a lambda function.\n",
    "\n",
    "**Hint:** Use `sorted()` with a lambda function to extract the key from each dictionary."
   ]
  },
  {
   "cell_type": "code",
   "metadata": {},
   "outputs": [],
   "source": [
    "# Your code here"
   ]
  },
  {
   "cell_type": "markdown",
   "metadata": {},
   "source": [
    "## 6. Advanced Lambda Use Cases\n",
    "\n",
    "**Question 11:** Write a Python program to create a lambda function that takes a list of numbers and returns a list of their factorials.\n",
    "\n",
    "**Hint:** Use `map()` with a lambda function and the `math.factorial` function."
   ]
  },
  {
   "cell_type": "code",
   "metadata": {},
   "outputs": [],
   "source": [
    "# Your code here"
   ]
  },
  {
   "cell_type": "markdown",
   "metadata": {},
   "source": [
    "**Question 12:** Write a Python program to create a lambda function that takes a list of strings and returns a list of their lengths.\n",
    "\n",
    "**Hint:** Use `map()` with a lambda function to apply the `len()` function to each string."
   ]
  },
  {
   "cell_type": "code",
   "metadata": {},
   "outputs": [],
   "source": [
    "# Your code here"
   ]
  },
  {
   "cell_type": "markdown",
   "metadata": {},
   "source": [
    "**Question 13:** Write a Python program to create a lambda function that takes a list of numbers and returns only the numbers divisible by both 2 and 3.\n",
    "\n",
    "**Hint:** Use `filter()` with a lambda function to check divisibility by 2 and 3."
   ]
  },
  {
   "cell_type": "code",
   "metadata": {},
   "outputs": [],
   "source": [
    "# Your code here"
   ]
  },
  {
   "cell_type": "markdown",
   "metadata": {},
   "source": [
    "**Question 14:** Write a Python program to create a lambda function that takes two lists and returns a list of tuples containing corresponding elements from both lists.\n",
    "\n",
    "**Hint:** Use `map()` with a lambda function and `zip()` to pair elements."
   ]
  },
  {
   "cell_type": "code",
   "metadata": {},
   "outputs": [],
   "source": [
    "# Your code here"
   ]
  },
  {
   "cell_type": "markdown",
   "metadata": {},
   "source": [
    "**Question 15:** Write a Python program to create a lambda function that takes a list of numbers and returns the sum of their cubes.\n",
    "\n",
    "**Hint:** Use `reduce()` with a lambda function to sum the cubes of the numbers."
   ]
  },
  {
   "cell_type": "code",
   "metadata": {},
   "outputs": [],
   "source": [
    "# Your code here"
   ]
  }
 ],
 "metadata": {
  "kernelspec": {
   "display_name": "Python 3",
   "language": "python",
   "name": "python3"
  },
  "language_info": {
   "codemirror_mode": {
    "name": "ipython",
    "version": 3
   },
   "file_extension": ".py",
   "mimetype": "text/x-python",
   "name": "python",
   "nbconvert_exporter": "python",
   "pygments_lexer": "ipython3",
   "version": "3.8.5"
  }
 },
 "nbformat": 4,
 "nbformat_minor": 4
}